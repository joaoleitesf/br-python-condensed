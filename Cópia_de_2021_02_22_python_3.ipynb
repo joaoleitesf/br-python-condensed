{
  "nbformat": 4,
  "nbformat_minor": 0,
  "metadata": {
    "colab": {
      "name": "Cópia de 2021-02-22-python-3.ipynb",
      "provenance": [],
      "collapsed_sections": [],
      "include_colab_link": true
    },
    "kernelspec": {
      "name": "python3",
      "display_name": "Python 3"
    }
  },
  "cells": [
    {
      "cell_type": "markdown",
      "metadata": {
        "id": "view-in-github",
        "colab_type": "text"
      },
      "source": [
        "<a href=\"https://colab.research.google.com/github/joaoleitesf/br-python-condensed/blob/main/C%C3%B3pia_de_2021_02_22_python_3.ipynb\" target=\"_parent\"><img src=\"https://colab.research.google.com/assets/colab-badge.svg\" alt=\"Open In Colab\"/></a>"
      ]
    },
    {
      "cell_type": "markdown",
      "metadata": {
        "id": "zvvIrPEcnXcV"
      },
      "source": [
        "<img src=\"https://i.imgur.com/JsMvGnP.pngwidth\" height=\"30\">  \n",
        "<p style=\"color: #2e6c80; text-align: center;\"><strong>\n"
      ]
    },
    {
      "cell_type": "markdown",
      "metadata": {
        "id": "K4mONVcuNsPy"
      },
      "source": [
        "Python Complementar 3 - E se precisássemos fazer uma análise de vários aspectos dos clientes de nossa academia?"
      ]
    },
    {
      "cell_type": "markdown",
      "metadata": {
        "id": "rWI8QBt-mCaM"
      },
      "source": [
        "Relembrando ***funções***:"
      ]
    },
    {
      "cell_type": "code",
      "metadata": {
        "id": "bI7kLkzAmH4k"
      },
      "source": [
        "def minha_funcao():\r\n",
        "  print(\"olhe minha funcao\")"
      ],
      "execution_count": 5,
      "outputs": []
    },
    {
      "cell_type": "code",
      "metadata": {
        "colab": {
          "base_uri": "https://localhost:8080/"
        },
        "id": "nStjSVs6yo7W",
        "outputId": "0f3e4a3a-122a-4caa-89c8-5e83f25cb9aa"
      },
      "source": [
        "minha_funcao()"
      ],
      "execution_count": 6,
      "outputs": [
        {
          "output_type": "stream",
          "text": [
            "olhe minha funcao\n"
          ],
          "name": "stdout"
        }
      ]
    },
    {
      "cell_type": "markdown",
      "metadata": {
        "id": "MKrnryUGm-9r"
      },
      "source": [
        "Relembrando ***funções com argumentos***:"
      ]
    },
    {
      "cell_type": "code",
      "metadata": {
        "id": "lIplmguroav0"
      },
      "source": [
        "def minha_funcao(nome):\r\n",
        "  print(f\"olhe minha funcao, {nome}\")"
      ],
      "execution_count": 8,
      "outputs": []
    },
    {
      "cell_type": "code",
      "metadata": {
        "id": "ofxwREEMwutG",
        "colab": {
          "base_uri": "https://localhost:8080/"
        },
        "outputId": "ff23aa35-85df-4db7-985c-63eefb3c4176"
      },
      "source": [
        "minha_funcao(\"Joao\")"
      ],
      "execution_count": 9,
      "outputs": [
        {
          "output_type": "stream",
          "text": [
            "olhe minha funcao, Joao\n"
          ],
          "name": "stdout"
        }
      ]
    },
    {
      "cell_type": "markdown",
      "metadata": {
        "id": "dv4WorH_j6Gk"
      },
      "source": [
        "Passando uma variável dentro da função."
      ]
    },
    {
      "cell_type": "code",
      "metadata": {
        "id": "-EN7g45rj5rz"
      },
      "source": [
        "def exp(numero,elevado=2):\r\n",
        "  return numero**elevado_a"
      ],
      "execution_count": 13,
      "outputs": []
    },
    {
      "cell_type": "code",
      "metadata": {
        "id": "P5PWCaodnChF"
      },
      "source": [
        "exp(2,5)"
      ],
      "execution_count": null,
      "outputs": []
    },
    {
      "cell_type": "code",
      "metadata": {
        "id": "laNIqtf7IAF_"
      },
      "source": [
        ""
      ],
      "execution_count": null,
      "outputs": []
    },
    {
      "cell_type": "markdown",
      "metadata": {
        "id": "25-VtR4eMt2B"
      },
      "source": [
        "# **Para que classes?** - Invertendo a lógica."
      ]
    },
    {
      "cell_type": "markdown",
      "metadata": {
        "id": "UI426Y6EoAzH"
      },
      "source": [
        "Trocar self por my"
      ]
    },
    {
      "cell_type": "code",
      "metadata": {
        "id": "J9Utf0DYn6rG"
      },
      "source": [
        "class Aluno():\r\n",
        "  def __init__(meu, nome, email):\r\n",
        "    meu.nome = nome\r\n",
        "    meu.email = email\r\n",
        "\r\n"
      ],
      "execution_count": 15,
      "outputs": []
    },
    {
      "cell_type": "code",
      "metadata": {
        "id": "PDeJpuv_1n7Y"
      },
      "source": [
        "urlrich = Aluno(\"Ulrich\",\"ulrich@dark.de\")"
      ],
      "execution_count": 17,
      "outputs": []
    },
    {
      "cell_type": "code",
      "metadata": {
        "colab": {
          "base_uri": "https://localhost:8080/",
          "height": 35
        },
        "id": "P2P1BLPK12vg",
        "outputId": "75067876-6509-4513-ed40-586bd0e9745b"
      },
      "source": [
        "urlrich.email"
      ],
      "execution_count": 18,
      "outputs": [
        {
          "output_type": "execute_result",
          "data": {
            "application/vnd.google.colaboratory.intrinsic+json": {
              "type": "string"
            },
            "text/plain": [
              "'ulrich@dark.de'"
            ]
          },
          "metadata": {
            "tags": []
          },
          "execution_count": 18
        }
      ]
    },
    {
      "cell_type": "markdown",
      "metadata": {
        "id": "53LMtrONn69T"
      },
      "source": [
        "Voltando para o self"
      ]
    },
    {
      "cell_type": "code",
      "metadata": {
        "id": "Zk_FS6K0oME_"
      },
      "source": [
        "class Aluno():\r\n",
        "  def __init__(self, nome, email, mensalidade=100):\r\n",
        "    self.nome = nome\r\n",
        "    self.email = email\r\n",
        "    self.mensalidade = mensalidade\r\n"
      ],
      "execution_count": 26,
      "outputs": []
    },
    {
      "cell_type": "code",
      "metadata": {
        "id": "yc6p4-iK2Ti7"
      },
      "source": [
        "urlrich = Aluno(\"Ulrich\",\"ulrich@dark.de\")"
      ],
      "execution_count": 27,
      "outputs": []
    },
    {
      "cell_type": "code",
      "metadata": {
        "colab": {
          "base_uri": "https://localhost:8080/",
          "height": 35
        },
        "id": "rq8XsFbK2Vgj",
        "outputId": "403349a4-3904-4824-aff3-69cabad5259d"
      },
      "source": [
        "urlrich.email"
      ],
      "execution_count": 22,
      "outputs": [
        {
          "output_type": "execute_result",
          "data": {
            "application/vnd.google.colaboratory.intrinsic+json": {
              "type": "string"
            },
            "text/plain": [
              "'ulrich@dark.de'"
            ]
          },
          "metadata": {
            "tags": []
          },
          "execution_count": 22
        }
      ]
    },
    {
      "cell_type": "code",
      "metadata": {
        "id": "_iwXF5kz2X41"
      },
      "source": [
        "martha = Aluno(\"Martha\",\"marta@dark.de\",150)"
      ],
      "execution_count": 28,
      "outputs": []
    },
    {
      "cell_type": "code",
      "metadata": {
        "colab": {
          "base_uri": "https://localhost:8080/"
        },
        "id": "3DFeM4eL2fyU",
        "outputId": "c093d656-ff9d-40af-81a9-35a135e71182"
      },
      "source": [
        "martha.mensalidade"
      ],
      "execution_count": 29,
      "outputs": [
        {
          "output_type": "execute_result",
          "data": {
            "text/plain": [
              "150"
            ]
          },
          "metadata": {
            "tags": []
          },
          "execution_count": 29
        }
      ]
    },
    {
      "cell_type": "code",
      "metadata": {
        "id": "uRJ202PN29GO"
      },
      "source": [
        "class conta_corrente():\r\n",
        "  def __init__(self, n_conta, nome, saldo=1000):\r\n",
        "    self.nome = n_conta\r\n",
        "    self.email = nome\r\n",
        "    self.saldo = saldo"
      ],
      "execution_count": 42,
      "outputs": []
    },
    {
      "cell_type": "code",
      "metadata": {
        "id": "zk8G-NK_3MlF"
      },
      "source": [
        "pedro = conta_corrente(\"157768\",\"Pedro\",1500)"
      ],
      "execution_count": 43,
      "outputs": []
    },
    {
      "cell_type": "code",
      "metadata": {
        "id": "RLI25XXS3WHT"
      },
      "source": [
        "cassio = conta_corrente(\"186315\",\"Cassio\")"
      ],
      "execution_count": 44,
      "outputs": []
    },
    {
      "cell_type": "code",
      "metadata": {
        "id": "dG79RrgA4YKR"
      },
      "source": [
        ""
      ],
      "execution_count": null,
      "outputs": []
    },
    {
      "cell_type": "markdown",
      "metadata": {
        "id": "apb25aYOOgNT"
      },
      "source": [
        "\n",
        "**Objeto**"
      ]
    },
    {
      "cell_type": "code",
      "metadata": {
        "id": "CLidFBd-yyF9"
      },
      "source": [
        ""
      ],
      "execution_count": null,
      "outputs": []
    },
    {
      "cell_type": "code",
      "metadata": {
        "id": "6VSTtbkDzAAx"
      },
      "source": [
        ""
      ],
      "execution_count": null,
      "outputs": []
    },
    {
      "cell_type": "code",
      "metadata": {
        "id": "cMr9w-2aYe1i"
      },
      "source": [
        ""
      ],
      "execution_count": null,
      "outputs": []
    },
    {
      "cell_type": "markdown",
      "metadata": {
        "id": "8jmR_dGkPGcl"
      },
      "source": [
        "Chamando um **atributo**"
      ]
    },
    {
      "cell_type": "code",
      "metadata": {
        "id": "cfWkTUWpzT11"
      },
      "source": [
        ""
      ],
      "execution_count": null,
      "outputs": []
    },
    {
      "cell_type": "code",
      "metadata": {
        "id": "Z-d8iB7YzMKt"
      },
      "source": [
        ""
      ],
      "execution_count": null,
      "outputs": []
    },
    {
      "cell_type": "code",
      "metadata": {
        "id": "OCYwpiB5Kh1e"
      },
      "source": [
        ""
      ],
      "execution_count": null,
      "outputs": []
    },
    {
      "cell_type": "code",
      "metadata": {
        "id": "vzG1BKbTKwX-"
      },
      "source": [
        ""
      ],
      "execution_count": null,
      "outputs": []
    },
    {
      "cell_type": "markdown",
      "metadata": {
        "id": "s59h5Nq1Xu_Q"
      },
      "source": [
        "**Exercício** - Crie a uma classe chamada ContaCorrente.\n",
        "Ela deverá conter os atributos número da conta, nome do correntista e iniciar com um saldo de R$1000.\\\n",
        "Inicie um objeto da classe criada."
      ]
    },
    {
      "cell_type": "code",
      "metadata": {
        "id": "kIDW7Jeg8iMp"
      },
      "source": [
        ""
      ],
      "execution_count": null,
      "outputs": []
    },
    {
      "cell_type": "code",
      "metadata": {
        "id": "XqIjj-zCAmzD"
      },
      "source": [
        ""
      ],
      "execution_count": null,
      "outputs": []
    },
    {
      "cell_type": "code",
      "metadata": {
        "id": "z-E8AeSfAwBw"
      },
      "source": [
        ""
      ],
      "execution_count": null,
      "outputs": []
    },
    {
      "cell_type": "code",
      "metadata": {
        "id": "O1iasQ0hBKkH"
      },
      "source": [
        ""
      ],
      "execution_count": null,
      "outputs": []
    },
    {
      "cell_type": "code",
      "metadata": {
        "id": "vznMitcbB_yv"
      },
      "source": [
        ""
      ],
      "execution_count": null,
      "outputs": []
    },
    {
      "cell_type": "markdown",
      "metadata": {
        "id": "GnhMFsHPPYec"
      },
      "source": [
        "Criando e aplicando um **método**"
      ]
    },
    {
      "cell_type": "code",
      "metadata": {
        "id": "ngCW6ksFoe27"
      },
      "source": [
        "class Aluno():\r\n",
        "  def __init__(self, nome, email, mensalidade=100):\r\n",
        "    self.nome = nome\r\n",
        "    self.email = email\r\n",
        "    self.mensalidade = mensalidade\r\n",
        "\r\n",
        "  def msg_cobranca(self):\r\n",
        "    print(f\"Ola {self.nome}, o boleto no valor de {self.mensalidade} já esta disponível. Paguei até o dia do vencimento.\")"
      ],
      "execution_count": 53,
      "outputs": []
    },
    {
      "cell_type": "code",
      "metadata": {
        "id": "Nw86o248oc57"
      },
      "source": [
        "urlrich = Aluno(\"Ulrich\",\"ulrich@dark.de\")"
      ],
      "execution_count": 54,
      "outputs": []
    },
    {
      "cell_type": "code",
      "metadata": {
        "id": "uVPEiJ_rodr0"
      },
      "source": [
        "martha = Aluno(\"Martha\",\"marta@dark.de\",150)martha = Aluno(\"Martha\",\"marta@dark.de\",150)"
      ],
      "execution_count": 55,
      "outputs": []
    },
    {
      "cell_type": "code",
      "metadata": {
        "colab": {
          "base_uri": "https://localhost:8080/"
        },
        "id": "6QrQUw6N5czu",
        "outputId": "510cc07e-5134-4bcb-e3bf-de11456f3e64"
      },
      "source": [
        "urlrich.msg_cobranca()"
      ],
      "execution_count": 56,
      "outputs": [
        {
          "output_type": "stream",
          "text": [
            "Ola Ulrich, o boleto no valor de 100 já esta disponível. Paguei até o dia do vencimento.\n"
          ],
          "name": "stdout"
        }
      ]
    },
    {
      "cell_type": "code",
      "metadata": {
        "id": "1Py3fX-h5wnf"
      },
      "source": [
        ""
      ],
      "execution_count": null,
      "outputs": []
    },
    {
      "cell_type": "markdown",
      "metadata": {
        "id": "D1REkCEBHpSn"
      },
      "source": [
        "**Exercício 2** - adicione o método **printSaldo** à classe. Esse método retorna a seguinte mensagem: \\\n",
        "Olá {nome}, seu saldo atual é de R${saldo}!"
      ]
    },
    {
      "cell_type": "code",
      "metadata": {
        "id": "-V9TSwlyHnwI"
      },
      "source": [
        "class conta_corrente():\r\n",
        "  def __init__(self, n_conta, nome, saldo=1000):\r\n",
        "    self.nome = n_conta\r\n",
        "    self.email = nome\r\n",
        "    self.saldo = saldo\r\n",
        "\r\n",
        "  def msg_saldo(self):\r\n",
        "      print(f\"Olá {self.nome}, seu saldo atual é {saldo}\")"
      ],
      "execution_count": 61,
      "outputs": []
    },
    {
      "cell_type": "code",
      "metadata": {
        "id": "vDFUFXq4HAbJ"
      },
      "source": [
        "pedro = conta_corrente(\"157768\",\"Pedro\",1500)"
      ],
      "execution_count": 62,
      "outputs": []
    },
    {
      "cell_type": "markdown",
      "metadata": {
        "id": "xIvY1Nwws4-0"
      },
      "source": [
        "Aplicando um **método** para modificar um **atributo**"
      ]
    },
    {
      "cell_type": "code",
      "metadata": {
        "id": "wM21fQINo_hj"
      },
      "source": [
        "class Aluno():\r\n",
        "  def __init__(self, nome, email, mensalidade=100):\r\n",
        "    self.nome = nome\r\n",
        "    self.email = email\r\n",
        "    self.mensalidade = mensalidade\r\n",
        "\r\n",
        "  def msg_cobranca(self):\r\n",
        "    print(f\"Ola {self.nome}, o boleto no valor de {self.mensalidade} já esta disponível. Paguei até o dia do vencimento.\")\r\n",
        "\r\n",
        "  def aumento_mensalidade(self,taxa=0.1):\r\n",
        "    self.mensalidade = self.mensalidade+taxa*self.mensalidade"
      ],
      "execution_count": 64,
      "outputs": []
    },
    {
      "cell_type": "code",
      "metadata": {
        "id": "10ZSfakOoedH"
      },
      "source": [
        "urlrich = Aluno(\"Ulrich\",\"ulrich@dark.de\")\r\n",
        "martha = Aluno(\"Martha\",\"marta@dark.de\",150)"
      ],
      "execution_count": 66,
      "outputs": []
    },
    {
      "cell_type": "code",
      "metadata": {
        "id": "_2fa50BM2YJu",
        "colab": {
          "base_uri": "https://localhost:8080/"
        },
        "outputId": "192850c6-ab69-4c85-94a9-4168546e47b8"
      },
      "source": [
        "print(\"Mensalidade Ulrisch:\",urlrich.mensalidade)\r\n",
        "print(\"Mensalidade Martha:\",martha.mensalidade)"
      ],
      "execution_count": 68,
      "outputs": [
        {
          "output_type": "stream",
          "text": [
            "Mensalidade Ulrisch: 100\n",
            "Mensalidade Martha: 150\n"
          ],
          "name": "stdout"
        }
      ]
    },
    {
      "cell_type": "code",
      "metadata": {
        "id": "mNZveWv8JPgB"
      },
      "source": [
        ""
      ],
      "execution_count": null,
      "outputs": []
    },
    {
      "cell_type": "markdown",
      "metadata": {
        "id": "Bs5P00QaI6vr"
      },
      "source": [
        "**Exercício 3** - Crie dois métodos: um que deposita dinheiro na conta corrente criada e outro que retira dinheiro dessa conta."
      ]
    },
    {
      "cell_type": "code",
      "metadata": {
        "id": "3AvGkno5JuqO"
      },
      "source": [
        "class ContaCorrente():\r\n",
        "  def __init__(self,n_conta,nome,saldo=1000):\r\n",
        "    self.n_conta=n_conta\r\n",
        "    self.nome=nome\r\n",
        "    self.saldo=saldo\r\n",
        "\r\n",
        "  def printSaldo(self):\r\n",
        "    print(f\"Olá {self.nome}, seu saldo é de R${self.saldo}\")\r\n",
        "\r\n",
        "  def saque(self,valor):\r\n",
        "    print(f\"Olá {self.nome}, seu saldo é de R${self.saldo - valor}\")\r\n",
        "\r\n",
        "  def deposito(self,valor):\r\n",
        "    print(f\"Olá {self.nome}, seu saldo é de R${self.saldo + valor}\")"
      ],
      "execution_count": 73,
      "outputs": []
    },
    {
      "cell_type": "code",
      "metadata": {
        "id": "c5cizf3-KAPo"
      },
      "source": [
        "conta_vinicius = ContaCorrente(1221052,\"Vinicius\")\r\n",
        "conta_bill_gates= ContaCorrente(12412514,\"Bill\",saldo=1000000000)"
      ],
      "execution_count": 74,
      "outputs": []
    },
    {
      "cell_type": "code",
      "metadata": {
        "id": "VkUJJ3qXXaJc",
        "colab": {
          "base_uri": "https://localhost:8080/"
        },
        "outputId": "b5ccddf8-495c-4b17-d7db-37a8415aa43d"
      },
      "source": [
        "conta_bill_gates.saldo"
      ],
      "execution_count": 75,
      "outputs": [
        {
          "output_type": "execute_result",
          "data": {
            "text/plain": [
              "1000000000"
            ]
          },
          "metadata": {
            "tags": []
          },
          "execution_count": 75
        }
      ]
    },
    {
      "cell_type": "code",
      "metadata": {
        "id": "iuvTWpfVXfjq",
        "colab": {
          "base_uri": "https://localhost:8080/"
        },
        "outputId": "aeaa85ce-1d34-4bc8-f1ac-89c05c210d0b"
      },
      "source": [
        "conta_bill_gates.saque(555)"
      ],
      "execution_count": 79,
      "outputs": [
        {
          "output_type": "stream",
          "text": [
            "Olá Bill, seu saldo é de R$999999445\n"
          ],
          "name": "stdout"
        }
      ]
    },
    {
      "cell_type": "code",
      "metadata": {
        "id": "U-PvuC1i-Uh3",
        "colab": {
          "base_uri": "https://localhost:8080/"
        },
        "outputId": "180420dd-2b01-4e54-ed32-70dc399d5118"
      },
      "source": [
        "conta_bill_gates.deposito(555)"
      ],
      "execution_count": 78,
      "outputs": [
        {
          "output_type": "stream",
          "text": [
            "Olá Bill, seu saldo é de R$1000000555\n"
          ],
          "name": "stdout"
        }
      ]
    },
    {
      "cell_type": "code",
      "metadata": {
        "id": "5O9645WK-YfC"
      },
      "source": [
        ""
      ],
      "execution_count": null,
      "outputs": []
    },
    {
      "cell_type": "markdown",
      "metadata": {
        "id": "8OFsjsNuyLnC"
      },
      "source": [
        "Atributo da classe"
      ]
    },
    {
      "cell_type": "code",
      "metadata": {
        "id": "aIJMjagi-T6D"
      },
      "source": [
        "class Aluno():\r\n",
        "  dia_vencimento = \"05\"\r\n",
        "  def __init__(self, nome, email, mensalidade=100):\r\n",
        "    self.nome = nome\r\n",
        "    self.email = email\r\n",
        "    self.mensalidade = mensalidade\r\n",
        "\r\n",
        "  def msg_cobranca(self):\r\n",
        "    print(f\"Ola {self.nome}, o boleto no valor de {self.mensalidade} já esta disponível. Paguei até o dia {self.dia_vencimento} do próximo mês.\")\r\n",
        "\r\n",
        "  def aumento_mensalidade(self,taxa=0.1):\r\n",
        "    self.mensalidade = self.mensalidade+taxa*self.mensalidade"
      ],
      "execution_count": 80,
      "outputs": []
    },
    {
      "cell_type": "code",
      "metadata": {
        "id": "MxFvVBarxynX"
      },
      "source": [
        "urlrich = Aluno(\"Ulrich\",\"ulrich@dark.de\")\r\n",
        "martha = Aluno(\"Martha\",\"marta@dark.de\",150)"
      ],
      "execution_count": 83,
      "outputs": []
    },
    {
      "cell_type": "code",
      "metadata": {
        "id": "ollQFLXsz4Xf",
        "colab": {
          "base_uri": "https://localhost:8080/"
        },
        "outputId": "71ee36e5-7e56-46bc-9daa-b6b79fc534b3"
      },
      "source": [
        "urlrich.msg_cobranca()"
      ],
      "execution_count": 85,
      "outputs": [
        {
          "output_type": "stream",
          "text": [
            "Ola Ulrich, o boleto no valor de 100 já esta disponível. Paguei até o dia 05 do próximo mês.\n"
          ],
          "name": "stdout"
        }
      ]
    },
    {
      "cell_type": "markdown",
      "metadata": {
        "id": "2eTmDcolYn08"
      },
      "source": [
        "Modificando atributos fora da criação da classe"
      ]
    },
    {
      "cell_type": "code",
      "metadata": {
        "id": "U1ISQlekYsF8"
      },
      "source": [
        ""
      ],
      "execution_count": null,
      "outputs": []
    },
    {
      "cell_type": "code",
      "metadata": {
        "id": "xfMYw5FvY5u9"
      },
      "source": [
        ""
      ],
      "execution_count": null,
      "outputs": []
    },
    {
      "cell_type": "code",
      "metadata": {
        "id": "Rg8Ictsg_M15"
      },
      "source": [
        ""
      ],
      "execution_count": null,
      "outputs": []
    },
    {
      "cell_type": "code",
      "metadata": {
        "id": "Q19K3dBzNAJB"
      },
      "source": [
        ""
      ],
      "execution_count": null,
      "outputs": []
    },
    {
      "cell_type": "markdown",
      "metadata": {
        "id": "mg25GEMutaom"
      },
      "source": [
        "**Voltando à academia dos exercícios anteriores**"
      ]
    },
    {
      "cell_type": "code",
      "metadata": {
        "id": "4_FeXaXf_MUA"
      },
      "source": [
        "clientes = {'Charlotte': {'altura': 1.56, 'imc': 21, 'peso': 52, 'sexo': 'F'},\r\n",
        " 'Claudia': {'altura': 1.56, 'imc': 25, 'peso': 62, 'sexo': 'F'},\r\n",
        " 'Jonas': {'altura': 1.56, 'imc': 21, 'peso': 52, 'sexo': 'M'},\r\n",
        " 'Martha': {'altura': 1.98, 'imc': 19, 'peso': 76, 'sexo': 'F'},\r\n",
        " 'Mikkel': {'altura': 1.56, 'imc': 28, 'peso': 67, 'sexo': 'M'},\r\n",
        " 'Ulrich': {'altura': 1.92, 'imc': 22, 'peso': 80, 'sexo': 'M'}}"
      ],
      "execution_count": 87,
      "outputs": []
    },
    {
      "cell_type": "code",
      "metadata": {
        "id": "ejf3zp_IbcBq"
      },
      "source": [
        ""
      ],
      "execution_count": null,
      "outputs": []
    },
    {
      "cell_type": "markdown",
      "metadata": {
        "id": "GYO_eNr9J-S7"
      },
      "source": [
        "**Analisando dados dos clientes** \\\n",
        "**Exercício:** Média de IMCS \\\n",
        "Procedimento possível:\n",
        "- Transformar os IMCs em uma lista\n",
        "- Dividir a soma dos itens da lista por seu tamanho (**len**)"
      ]
    },
    {
      "cell_type": "code",
      "metadata": {
        "id": "4UgNe4Dj3jXz"
      },
      "source": [
        "lista_imcs = []\r\n",
        "for aluno in clientes.keys():\r\n",
        "  imc = clientes[aluno][\"imc\"]\r\n",
        "  lista_imcs.append(imc)"
      ],
      "execution_count": 93,
      "outputs": []
    },
    {
      "cell_type": "code",
      "metadata": {
        "id": "qspPwbOU3z7r"
      },
      "source": [
        "imc_avg = sum(lista_imcs)/len(lista_imcs)"
      ],
      "execution_count": 94,
      "outputs": []
    },
    {
      "cell_type": "code",
      "metadata": {
        "id": "lbj3DEvGceGA",
        "colab": {
          "base_uri": "https://localhost:8080/"
        },
        "outputId": "78f7e400-4933-460e-ac7f-fecc520697e4"
      },
      "source": [
        "imc_avg"
      ],
      "execution_count": 95,
      "outputs": [
        {
          "output_type": "execute_result",
          "data": {
            "text/plain": [
              "22.666666666666668"
            ]
          },
          "metadata": {
            "tags": []
          },
          "execution_count": 95
        }
      ]
    },
    {
      "cell_type": "code",
      "metadata": {
        "id": "-IUnYZgIoh-U",
        "colab": {
          "base_uri": "https://localhost:8080/"
        },
        "outputId": "94caa990-c862-48d9-a69b-252c3ce767e0"
      },
      "source": [
        "\"Estou aprendendo Python\".split(\"e\")"
      ],
      "execution_count": 101,
      "outputs": [
        {
          "output_type": "execute_result",
          "data": {
            "text/plain": [
              "['Estou apr', 'nd', 'ndo Python']"
            ]
          },
          "metadata": {
            "tags": []
          },
          "execution_count": 101
        }
      ]
    },
    {
      "cell_type": "code",
      "metadata": {
        "id": "0fO_CzemdB4Z"
      },
      "source": [
        ""
      ],
      "execution_count": null,
      "outputs": []
    },
    {
      "cell_type": "code",
      "metadata": {
        "id": "tT0IiaSaoipE"
      },
      "source": [
        ""
      ],
      "execution_count": null,
      "outputs": []
    },
    {
      "cell_type": "markdown",
      "metadata": {
        "id": "uzuXEeUmLP38"
      },
      "source": [
        "**E se quisermos calcular a mediana?**\n",
        "\n"
      ]
    },
    {
      "cell_type": "markdown",
      "metadata": {
        "id": "bk_NX7a82um4"
      },
      "source": [
        "- Ordenar a lista\n",
        "- Escolher o valor do meio\n",
        "- Se a lista tiver um número par de elementos, fazer a média dos dois valores do meio"
      ]
    },
    {
      "cell_type": "code",
      "metadata": {
        "id": "CIakr7SX2tZn"
      },
      "source": [
        "clientes = {'Charlotte': {'altura': 1.56, 'imc': 21, 'peso': 52, 'sexo': 'F'},\n",
        " 'Claudia': {'altura': 1.56, 'imc': 25, 'peso': 62, 'sexo': 'F'},\n",
        " 'Jonas': {'altura': 1.56, 'imc': 21, 'peso': 52, 'sexo': 'M'},\n",
        " 'Martha': {'altura': 1.98, 'imc': 19, 'peso': 76, 'sexo': 'F'},\n",
        " 'Mikkel': {'altura': 1.56, 'imc': 28, 'peso': 67, 'sexo': 'M'},\n",
        " 'Ulrich': {'altura': 1.92, 'imc': 22, 'peso': 80, 'sexo': 'M'}}"
      ],
      "execution_count": null,
      "outputs": []
    },
    {
      "cell_type": "markdown",
      "metadata": {
        "id": "bqjn-SMQ2XBf"
      },
      "source": [
        "**E se quisermos calcular o desvio padrão?**"
      ]
    },
    {
      "cell_type": "code",
      "metadata": {
        "id": "9Y47x-jk2eH0"
      },
      "source": [
        ""
      ],
      "execution_count": null,
      "outputs": []
    },
    {
      "cell_type": "code",
      "metadata": {
        "id": "v2bW--e62dvY"
      },
      "source": [
        ""
      ],
      "execution_count": null,
      "outputs": []
    },
    {
      "cell_type": "markdown",
      "metadata": {
        "id": "vcI823XiMPDW"
      },
      "source": [
        "**Ahh nãããoo... paramos por aqui!**"
      ]
    },
    {
      "cell_type": "markdown",
      "metadata": {
        "id": "0nmY2egJt653"
      },
      "source": [
        "**Utilizando uma classe - Pandas**"
      ]
    },
    {
      "cell_type": "markdown",
      "metadata": {
        "id": "CagJVLzQJqg0"
      },
      "source": [
        "Criando um **objeto** da **classe** Dataframe da biblioteca pandas"
      ]
    },
    {
      "cell_type": "code",
      "metadata": {
        "id": "zhC2aA492dTO",
        "colab": {
          "base_uri": "https://localhost:8080/"
        },
        "outputId": "1f9e0744-6256-45fb-8c32-8e212992e38e"
      },
      "source": [
        "clientes"
      ],
      "execution_count": 102,
      "outputs": [
        {
          "output_type": "execute_result",
          "data": {
            "text/plain": [
              "{'Charlotte': {'altura': 1.56, 'imc': 21, 'peso': 52, 'sexo': 'F'},\n",
              " 'Claudia': {'altura': 1.56, 'imc': 25, 'peso': 62, 'sexo': 'F'},\n",
              " 'Jonas': {'altura': 1.56, 'imc': 21, 'peso': 52, 'sexo': 'M'},\n",
              " 'Martha': {'altura': 1.98, 'imc': 19, 'peso': 76, 'sexo': 'F'},\n",
              " 'Mikkel': {'altura': 1.56, 'imc': 28, 'peso': 67, 'sexo': 'M'},\n",
              " 'Ulrich': {'altura': 1.92, 'imc': 22, 'peso': 80, 'sexo': 'M'}}"
            ]
          },
          "metadata": {
            "tags": []
          },
          "execution_count": 102
        }
      ]
    },
    {
      "cell_type": "code",
      "metadata": {
        "id": "U7QDkNRY2diO",
        "colab": {
          "base_uri": "https://localhost:8080/"
        },
        "outputId": "b99666a2-8ba9-45f0-d23c-d9ed22318044"
      },
      "source": [
        "type(clientes)"
      ],
      "execution_count": 103,
      "outputs": [
        {
          "output_type": "execute_result",
          "data": {
            "text/plain": [
              "dict"
            ]
          },
          "metadata": {
            "tags": []
          },
          "execution_count": 103
        }
      ]
    },
    {
      "cell_type": "code",
      "metadata": {
        "id": "5nBJTE212dqu"
      },
      "source": [
        "import pandas as pd\r\n"
      ],
      "execution_count": 104,
      "outputs": []
    },
    {
      "cell_type": "code",
      "metadata": {
        "id": "oMYUyPHB2d0A"
      },
      "source": [
        "df = pd.DataFrame(clientes)"
      ],
      "execution_count": 105,
      "outputs": []
    },
    {
      "cell_type": "code",
      "metadata": {
        "id": "hV_UWXnkE6P5",
        "outputId": "b871cab8-5c6b-4da2-b90e-10d8f97a6c97",
        "colab": {
          "base_uri": "https://localhost:8080/"
        }
      },
      "source": [
        "type(df)"
      ],
      "execution_count": 106,
      "outputs": [
        {
          "output_type": "execute_result",
          "data": {
            "text/plain": [
              "pandas.core.frame.DataFrame"
            ]
          },
          "metadata": {
            "tags": []
          },
          "execution_count": 106
        }
      ]
    },
    {
      "cell_type": "code",
      "metadata": {
        "id": "R5dklSLgE6By",
        "outputId": "d5b9bcf9-8b57-40a5-f922-75e8496e3cc2",
        "colab": {
          "base_uri": "https://localhost:8080/",
          "height": 173
        }
      },
      "source": [
        "df"
      ],
      "execution_count": 107,
      "outputs": [
        {
          "output_type": "execute_result",
          "data": {
            "text/html": [
              "<div>\n",
              "<style scoped>\n",
              "    .dataframe tbody tr th:only-of-type {\n",
              "        vertical-align: middle;\n",
              "    }\n",
              "\n",
              "    .dataframe tbody tr th {\n",
              "        vertical-align: top;\n",
              "    }\n",
              "\n",
              "    .dataframe thead th {\n",
              "        text-align: right;\n",
              "    }\n",
              "</style>\n",
              "<table border=\"1\" class=\"dataframe\">\n",
              "  <thead>\n",
              "    <tr style=\"text-align: right;\">\n",
              "      <th></th>\n",
              "      <th>Charlotte</th>\n",
              "      <th>Claudia</th>\n",
              "      <th>Jonas</th>\n",
              "      <th>Martha</th>\n",
              "      <th>Mikkel</th>\n",
              "      <th>Ulrich</th>\n",
              "    </tr>\n",
              "  </thead>\n",
              "  <tbody>\n",
              "    <tr>\n",
              "      <th>altura</th>\n",
              "      <td>1.56</td>\n",
              "      <td>1.56</td>\n",
              "      <td>1.56</td>\n",
              "      <td>1.98</td>\n",
              "      <td>1.56</td>\n",
              "      <td>1.92</td>\n",
              "    </tr>\n",
              "    <tr>\n",
              "      <th>imc</th>\n",
              "      <td>21</td>\n",
              "      <td>25</td>\n",
              "      <td>21</td>\n",
              "      <td>19</td>\n",
              "      <td>28</td>\n",
              "      <td>22</td>\n",
              "    </tr>\n",
              "    <tr>\n",
              "      <th>peso</th>\n",
              "      <td>52</td>\n",
              "      <td>62</td>\n",
              "      <td>52</td>\n",
              "      <td>76</td>\n",
              "      <td>67</td>\n",
              "      <td>80</td>\n",
              "    </tr>\n",
              "    <tr>\n",
              "      <th>sexo</th>\n",
              "      <td>F</td>\n",
              "      <td>F</td>\n",
              "      <td>M</td>\n",
              "      <td>F</td>\n",
              "      <td>M</td>\n",
              "      <td>M</td>\n",
              "    </tr>\n",
              "  </tbody>\n",
              "</table>\n",
              "</div>"
            ],
            "text/plain": [
              "       Charlotte Claudia Jonas Martha Mikkel Ulrich\n",
              "altura      1.56    1.56  1.56   1.98   1.56   1.92\n",
              "imc           21      25    21     19     28     22\n",
              "peso          52      62    52     76     67     80\n",
              "sexo           F       F     M      F      M      M"
            ]
          },
          "metadata": {
            "tags": []
          },
          "execution_count": 107
        }
      ]
    },
    {
      "cell_type": "code",
      "metadata": {
        "id": "MdC9MC3sFGm9"
      },
      "source": [
        "df = df.transpose()"
      ],
      "execution_count": 108,
      "outputs": []
    },
    {
      "cell_type": "code",
      "metadata": {
        "id": "nlsF4E5C2d6b",
        "colab": {
          "base_uri": "https://localhost:8080/",
          "height": 235
        },
        "outputId": "9040edf4-b813-464d-9e99-09da484da426"
      },
      "source": [
        "df\r\n"
      ],
      "execution_count": 109,
      "outputs": [
        {
          "output_type": "execute_result",
          "data": {
            "text/html": [
              "<div>\n",
              "<style scoped>\n",
              "    .dataframe tbody tr th:only-of-type {\n",
              "        vertical-align: middle;\n",
              "    }\n",
              "\n",
              "    .dataframe tbody tr th {\n",
              "        vertical-align: top;\n",
              "    }\n",
              "\n",
              "    .dataframe thead th {\n",
              "        text-align: right;\n",
              "    }\n",
              "</style>\n",
              "<table border=\"1\" class=\"dataframe\">\n",
              "  <thead>\n",
              "    <tr style=\"text-align: right;\">\n",
              "      <th></th>\n",
              "      <th>altura</th>\n",
              "      <th>imc</th>\n",
              "      <th>peso</th>\n",
              "      <th>sexo</th>\n",
              "    </tr>\n",
              "  </thead>\n",
              "  <tbody>\n",
              "    <tr>\n",
              "      <th>Charlotte</th>\n",
              "      <td>1.56</td>\n",
              "      <td>21</td>\n",
              "      <td>52</td>\n",
              "      <td>F</td>\n",
              "    </tr>\n",
              "    <tr>\n",
              "      <th>Claudia</th>\n",
              "      <td>1.56</td>\n",
              "      <td>25</td>\n",
              "      <td>62</td>\n",
              "      <td>F</td>\n",
              "    </tr>\n",
              "    <tr>\n",
              "      <th>Jonas</th>\n",
              "      <td>1.56</td>\n",
              "      <td>21</td>\n",
              "      <td>52</td>\n",
              "      <td>M</td>\n",
              "    </tr>\n",
              "    <tr>\n",
              "      <th>Martha</th>\n",
              "      <td>1.98</td>\n",
              "      <td>19</td>\n",
              "      <td>76</td>\n",
              "      <td>F</td>\n",
              "    </tr>\n",
              "    <tr>\n",
              "      <th>Mikkel</th>\n",
              "      <td>1.56</td>\n",
              "      <td>28</td>\n",
              "      <td>67</td>\n",
              "      <td>M</td>\n",
              "    </tr>\n",
              "    <tr>\n",
              "      <th>Ulrich</th>\n",
              "      <td>1.92</td>\n",
              "      <td>22</td>\n",
              "      <td>80</td>\n",
              "      <td>M</td>\n",
              "    </tr>\n",
              "  </tbody>\n",
              "</table>\n",
              "</div>"
            ],
            "text/plain": [
              "          altura imc peso sexo\n",
              "Charlotte   1.56  21   52    F\n",
              "Claudia     1.56  25   62    F\n",
              "Jonas       1.56  21   52    M\n",
              "Martha      1.98  19   76    F\n",
              "Mikkel      1.56  28   67    M\n",
              "Ulrich      1.92  22   80    M"
            ]
          },
          "metadata": {
            "tags": []
          },
          "execution_count": 109
        }
      ]
    },
    {
      "cell_type": "code",
      "metadata": {
        "id": "eoikrhoKFcyv",
        "outputId": "efd80fa3-45dd-4947-fb21-44aba0afb289",
        "colab": {
          "base_uri": "https://localhost:8080/"
        }
      },
      "source": [
        "df['imc'].mean()"
      ],
      "execution_count": 110,
      "outputs": [
        {
          "output_type": "execute_result",
          "data": {
            "text/plain": [
              "22.666666666666668"
            ]
          },
          "metadata": {
            "tags": []
          },
          "execution_count": 110
        }
      ]
    },
    {
      "cell_type": "code",
      "metadata": {
        "id": "DAS8f7d5FxR_",
        "outputId": "f385dcc6-cec8-44a1-e9c5-8c2743cd2dda",
        "colab": {
          "base_uri": "https://localhost:8080/"
        }
      },
      "source": [
        "df['imc'].std()"
      ],
      "execution_count": 111,
      "outputs": [
        {
          "output_type": "execute_result",
          "data": {
            "text/plain": [
              "3.265986323710904"
            ]
          },
          "metadata": {
            "tags": []
          },
          "execution_count": 111
        }
      ]
    },
    {
      "cell_type": "code",
      "metadata": {
        "id": "AREnhO0FF2rS",
        "outputId": "270340c3-8d92-4655-8dfa-2476811a91fe",
        "colab": {
          "base_uri": "https://localhost:8080/",
          "height": 282
        }
      },
      "source": [
        "df['imc'].plot(kind='barh')"
      ],
      "execution_count": 113,
      "outputs": [
        {
          "output_type": "execute_result",
          "data": {
            "text/plain": [
              "<matplotlib.axes._subplots.AxesSubplot at 0x7f5d21b89f60>"
            ]
          },
          "metadata": {
            "tags": []
          },
          "execution_count": 113
        },
        {
          "output_type": "display_data",
          "data": {
            "image/png": "[encoded data removed]",
            "text/plain": [
              "<Figure size 432x288 with 1 Axes>"
            ]
          },
          "metadata": {
            "tags": [],
            "needs_background": "light"
          }
        }
      ]
    },
    {
      "cell_type": "markdown",
      "metadata": {
        "id": "ziIE21qx3W0-"
      },
      "source": [
        "**Transpose**"
      ]
    },
    {
      "cell_type": "code",
      "metadata": {
        "id": "wQOODJKEdj_t"
      },
      "source": [
        ""
      ],
      "execution_count": null,
      "outputs": []
    },
    {
      "cell_type": "code",
      "metadata": {
        "id": "uMG0YqVw7Cc1"
      },
      "source": [
        ""
      ],
      "execution_count": null,
      "outputs": []
    },
    {
      "cell_type": "markdown",
      "metadata": {
        "id": "m7w42Lsl3bS7"
      },
      "source": [
        "Média"
      ]
    },
    {
      "cell_type": "code",
      "metadata": {
        "id": "5I4B9v4boPrk"
      },
      "source": [
        ""
      ],
      "execution_count": null,
      "outputs": []
    },
    {
      "cell_type": "markdown",
      "metadata": {
        "id": "hIuGxUI43dzR"
      },
      "source": [
        "Mediana"
      ]
    },
    {
      "cell_type": "code",
      "metadata": {
        "id": "sIENVGFzoTEW"
      },
      "source": [
        ""
      ],
      "execution_count": null,
      "outputs": []
    },
    {
      "cell_type": "markdown",
      "metadata": {
        "id": "UVBBRtEt3f-6"
      },
      "source": [
        "Desvio Padrão"
      ]
    },
    {
      "cell_type": "code",
      "metadata": {
        "id": "ES3ty9G4oUEE"
      },
      "source": [
        ""
      ],
      "execution_count": null,
      "outputs": []
    },
    {
      "cell_type": "markdown",
      "metadata": {
        "id": "dAO4RKeh3qBK"
      },
      "source": [
        "Gerando Gráficos"
      ]
    },
    {
      "cell_type": "code",
      "metadata": {
        "id": "3Lgg7wo4Eva1"
      },
      "source": [
        ""
      ],
      "execution_count": null,
      "outputs": []
    },
    {
      "cell_type": "code",
      "metadata": {
        "id": "CqDnRtx4oWwv"
      },
      "source": [
        ""
      ],
      "execution_count": null,
      "outputs": []
    },
    {
      "cell_type": "code",
      "metadata": {
        "id": "7W8ZZclpC89J"
      },
      "source": [
        ""
      ],
      "execution_count": null,
      "outputs": []
    },
    {
      "cell_type": "code",
      "metadata": {
        "id": "EL74g-bXEGhM"
      },
      "source": [
        ""
      ],
      "execution_count": null,
      "outputs": []
    },
    {
      "cell_type": "code",
      "metadata": {
        "id": "7i-2OzAEFcSo"
      },
      "source": [
        ""
      ],
      "execution_count": null,
      "outputs": []
    },
    {
      "cell_type": "code",
      "metadata": {
        "id": "DHO0ZYjHF0YF"
      },
      "source": [
        ""
      ],
      "execution_count": null,
      "outputs": []
    }
  ]
}