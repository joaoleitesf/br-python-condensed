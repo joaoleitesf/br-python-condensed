{
  "nbformat": 4,
  "nbformat_minor": 0,
  "metadata": {
    "colab": {
      "name": "Cópia de 2021-02-22-python-3.ipynb",
      "provenance": [],
      "collapsed_sections": [],
      "include_colab_link": true
    },
    "kernelspec": {
      "name": "python3",
      "display_name": "Python 3"
    }
  },
  "cells": [
    {
      "cell_type": "markdown",
      "metadata": {
        "id": "view-in-github",
        "colab_type": "text"
      },
      "source": [
        "<a href=\"https://colab.research.google.com/github/joaoleitesf/br-python-condensed/blob/main/C%C3%B3pia_de_2021_02_22_python_3.ipynb\" target=\"_parent\"><img src=\"https://colab.research.google.com/assets/colab-badge.svg\" alt=\"Open In Colab\"/></a>"
      ]
    },
    {
      "cell_type": "markdown",
      "metadata": {
        "id": "zvvIrPEcnXcV"
      },
      "source": [
        "<img src=\"https://i.imgur.com/JsMvGnP.pngwidth\" height=\"30\">  \n",
        "<p style=\"color: #2e6c80; text-align: center;\"><strong>\n"
      ]
    },
    {
      "cell_type": "markdown",
      "metadata": {
        "id": "K4mONVcuNsPy"
      },
      "source": [
        "Python Complementar 3 - E se precisássemos fazer uma análise de vários aspectos dos clientes de nossa academia?"
      ]
    },
    {
      "cell_type": "markdown",
      "metadata": {
        "id": "rWI8QBt-mCaM"
      },
      "source": [
        "Relembrando ***funções***:"
      ]
    },
    {
      "cell_type": "code",
      "metadata": {
        "id": "bI7kLkzAmH4k"
      },
      "source": [
        ""
      ],
      "execution_count": null,
      "outputs": []
    },
    {
      "cell_type": "code",
      "metadata": {
        "id": "y6ejcPEXwUxQ"
      },
      "source": [
        ""
      ],
      "execution_count": null,
      "outputs": []
    },
    {
      "cell_type": "markdown",
      "metadata": {
        "id": "MKrnryUGm-9r"
      },
      "source": [
        "Relembrando ***funções com argumentos***:"
      ]
    },
    {
      "cell_type": "code",
      "metadata": {
        "id": "lIplmguroav0"
      },
      "source": [
        ""
      ],
      "execution_count": null,
      "outputs": []
    },
    {
      "cell_type": "code",
      "metadata": {
        "id": "ofxwREEMwutG"
      },
      "source": [
        ""
      ],
      "execution_count": null,
      "outputs": []
    },
    {
      "cell_type": "markdown",
      "metadata": {
        "id": "dv4WorH_j6Gk"
      },
      "source": [
        "Passando uma variável dentro da função."
      ]
    },
    {
      "cell_type": "code",
      "metadata": {
        "id": "-EN7g45rj5rz"
      },
      "source": [
        ""
      ],
      "execution_count": null,
      "outputs": []
    },
    {
      "cell_type": "code",
      "metadata": {
        "id": "P5PWCaodnChF"
      },
      "source": [
        ""
      ],
      "execution_count": null,
      "outputs": []
    },
    {
      "cell_type": "code",
      "metadata": {
        "id": "laNIqtf7IAF_"
      },
      "source": [
        ""
      ],
      "execution_count": null,
      "outputs": []
    },
    {
      "cell_type": "markdown",
      "metadata": {
        "id": "25-VtR4eMt2B"
      },
      "source": [
        "# **Para que classes?** - Invertendo a lógica."
      ]
    },
    {
      "cell_type": "markdown",
      "metadata": {
        "id": "UI426Y6EoAzH"
      },
      "source": [
        "Trocar self por my"
      ]
    },
    {
      "cell_type": "code",
      "metadata": {
        "id": "J9Utf0DYn6rG"
      },
      "source": [
        ""
      ],
      "execution_count": null,
      "outputs": []
    },
    {
      "cell_type": "markdown",
      "metadata": {
        "id": "53LMtrONn69T"
      },
      "source": [
        "Voltando para o self"
      ]
    },
    {
      "cell_type": "code",
      "metadata": {
        "id": "Zk_FS6K0oME_"
      },
      "source": [
        ""
      ],
      "execution_count": null,
      "outputs": []
    },
    {
      "cell_type": "markdown",
      "metadata": {
        "id": "apb25aYOOgNT"
      },
      "source": [
        "\n",
        "**Objeto**"
      ]
    },
    {
      "cell_type": "code",
      "metadata": {
        "id": "CLidFBd-yyF9"
      },
      "source": [
        ""
      ],
      "execution_count": null,
      "outputs": []
    },
    {
      "cell_type": "code",
      "metadata": {
        "id": "6VSTtbkDzAAx"
      },
      "source": [
        ""
      ],
      "execution_count": null,
      "outputs": []
    },
    {
      "cell_type": "code",
      "metadata": {
        "id": "cMr9w-2aYe1i"
      },
      "source": [
        ""
      ],
      "execution_count": null,
      "outputs": []
    },
    {
      "cell_type": "markdown",
      "metadata": {
        "id": "8jmR_dGkPGcl"
      },
      "source": [
        "Chamando um **atributo**"
      ]
    },
    {
      "cell_type": "code",
      "metadata": {
        "id": "cfWkTUWpzT11"
      },
      "source": [
        ""
      ],
      "execution_count": null,
      "outputs": []
    },
    {
      "cell_type": "code",
      "metadata": {
        "id": "Z-d8iB7YzMKt"
      },
      "source": [
        ""
      ],
      "execution_count": null,
      "outputs": []
    },
    {
      "cell_type": "code",
      "metadata": {
        "id": "OCYwpiB5Kh1e"
      },
      "source": [
        ""
      ],
      "execution_count": null,
      "outputs": []
    },
    {
      "cell_type": "code",
      "metadata": {
        "id": "vzG1BKbTKwX-"
      },
      "source": [
        ""
      ],
      "execution_count": null,
      "outputs": []
    },
    {
      "cell_type": "markdown",
      "metadata": {
        "id": "s59h5Nq1Xu_Q"
      },
      "source": [
        "**Exercício** - Crie a uma classe chamada ContaCorrente.\n",
        "Ela deverá conter os atributos número da conta, nome do correntista e iniciar com um saldo de R$1000.\\\n",
        "Inicie um objeto da classe criada."
      ]
    },
    {
      "cell_type": "code",
      "metadata": {
        "id": "kIDW7Jeg8iMp"
      },
      "source": [
        ""
      ],
      "execution_count": null,
      "outputs": []
    },
    {
      "cell_type": "code",
      "metadata": {
        "id": "XqIjj-zCAmzD"
      },
      "source": [
        ""
      ],
      "execution_count": null,
      "outputs": []
    },
    {
      "cell_type": "code",
      "metadata": {
        "id": "z-E8AeSfAwBw"
      },
      "source": [
        ""
      ],
      "execution_count": null,
      "outputs": []
    },
    {
      "cell_type": "code",
      "metadata": {
        "id": "O1iasQ0hBKkH"
      },
      "source": [
        ""
      ],
      "execution_count": null,
      "outputs": []
    },
    {
      "cell_type": "code",
      "metadata": {
        "id": "vznMitcbB_yv"
      },
      "source": [
        ""
      ],
      "execution_count": null,
      "outputs": []
    },
    {
      "cell_type": "markdown",
      "metadata": {
        "id": "GnhMFsHPPYec"
      },
      "source": [
        "Criando e aplicando um **método**"
      ]
    },
    {
      "cell_type": "code",
      "metadata": {
        "id": "ngCW6ksFoe27"
      },
      "source": [
        ""
      ],
      "execution_count": null,
      "outputs": []
    },
    {
      "cell_type": "code",
      "metadata": {
        "id": "Nw86o248oc57"
      },
      "source": [
        ""
      ],
      "execution_count": null,
      "outputs": []
    },
    {
      "cell_type": "code",
      "metadata": {
        "id": "uVPEiJ_rodr0"
      },
      "source": [
        ""
      ],
      "execution_count": null,
      "outputs": []
    },
    {
      "cell_type": "markdown",
      "metadata": {
        "id": "D1REkCEBHpSn"
      },
      "source": [
        "**Exercício 2** - adicione o método **printSaldo** à classe. Esse método retorna a seguinte mensagem: \\\n",
        "Olá {nome}, seu saldo atual é de R${saldo}!"
      ]
    },
    {
      "cell_type": "code",
      "metadata": {
        "id": "-V9TSwlyHnwI"
      },
      "source": [
        ""
      ],
      "execution_count": null,
      "outputs": []
    },
    {
      "cell_type": "code",
      "metadata": {
        "id": "vDFUFXq4HAbJ"
      },
      "source": [
        ""
      ],
      "execution_count": null,
      "outputs": []
    },
    {
      "cell_type": "markdown",
      "metadata": {
        "id": "xIvY1Nwws4-0"
      },
      "source": [
        "Aplicando um **método** para modificar um **atributo**"
      ]
    },
    {
      "cell_type": "code",
      "metadata": {
        "id": "wM21fQINo_hj"
      },
      "source": [
        ""
      ],
      "execution_count": null,
      "outputs": []
    },
    {
      "cell_type": "code",
      "metadata": {
        "id": "10ZSfakOoedH"
      },
      "source": [
        ""
      ],
      "execution_count": null,
      "outputs": []
    },
    {
      "cell_type": "code",
      "metadata": {
        "id": "_2fa50BM2YJu"
      },
      "source": [
        ""
      ],
      "execution_count": null,
      "outputs": []
    },
    {
      "cell_type": "code",
      "metadata": {
        "id": "mNZveWv8JPgB"
      },
      "source": [
        ""
      ],
      "execution_count": null,
      "outputs": []
    },
    {
      "cell_type": "markdown",
      "metadata": {
        "id": "Bs5P00QaI6vr"
      },
      "source": [
        "**Exercício 3** - Crie dois métodos: um que deposita dinheiro na conta corrente criada e outro que retira dinheiro dessa conta."
      ]
    },
    {
      "cell_type": "code",
      "metadata": {
        "id": "3AvGkno5JuqO"
      },
      "source": [
        ""
      ],
      "execution_count": null,
      "outputs": []
    },
    {
      "cell_type": "code",
      "metadata": {
        "id": "c5cizf3-KAPo"
      },
      "source": [
        ""
      ],
      "execution_count": null,
      "outputs": []
    },
    {
      "cell_type": "code",
      "metadata": {
        "id": "VkUJJ3qXXaJc"
      },
      "source": [
        ""
      ],
      "execution_count": null,
      "outputs": []
    },
    {
      "cell_type": "code",
      "metadata": {
        "id": "iuvTWpfVXfjq"
      },
      "source": [
        ""
      ],
      "execution_count": null,
      "outputs": []
    },
    {
      "cell_type": "code",
      "metadata": {
        "id": "U-PvuC1i-Uh3"
      },
      "source": [
        ""
      ],
      "execution_count": null,
      "outputs": []
    },
    {
      "cell_type": "code",
      "metadata": {
        "id": "5O9645WK-YfC"
      },
      "source": [
        ""
      ],
      "execution_count": null,
      "outputs": []
    },
    {
      "cell_type": "markdown",
      "metadata": {
        "id": "8OFsjsNuyLnC"
      },
      "source": [
        "Atributo da classe"
      ]
    },
    {
      "cell_type": "code",
      "metadata": {
        "id": "aIJMjagi-T6D"
      },
      "source": [
        ""
      ],
      "execution_count": null,
      "outputs": []
    },
    {
      "cell_type": "code",
      "metadata": {
        "id": "MxFvVBarxynX"
      },
      "source": [
        ""
      ],
      "execution_count": null,
      "outputs": []
    },
    {
      "cell_type": "code",
      "metadata": {
        "id": "ollQFLXsz4Xf"
      },
      "source": [
        ""
      ],
      "execution_count": null,
      "outputs": []
    },
    {
      "cell_type": "markdown",
      "metadata": {
        "id": "2eTmDcolYn08"
      },
      "source": [
        "Modificando atributos fora da criação da classe"
      ]
    },
    {
      "cell_type": "code",
      "metadata": {
        "id": "U1ISQlekYsF8"
      },
      "source": [
        ""
      ],
      "execution_count": null,
      "outputs": []
    },
    {
      "cell_type": "code",
      "metadata": {
        "id": "xfMYw5FvY5u9"
      },
      "source": [
        ""
      ],
      "execution_count": null,
      "outputs": []
    },
    {
      "cell_type": "code",
      "metadata": {
        "id": "Rg8Ictsg_M15"
      },
      "source": [
        ""
      ],
      "execution_count": null,
      "outputs": []
    },
    {
      "cell_type": "code",
      "metadata": {
        "id": "Q19K3dBzNAJB"
      },
      "source": [
        ""
      ],
      "execution_count": null,
      "outputs": []
    },
    {
      "cell_type": "markdown",
      "metadata": {
        "id": "mg25GEMutaom"
      },
      "source": [
        "**Voltando à academia dos exercícios anteriores**"
      ]
    },
    {
      "cell_type": "code",
      "metadata": {
        "id": "4_FeXaXf_MUA"
      },
      "source": [
        ""
      ],
      "execution_count": null,
      "outputs": []
    },
    {
      "cell_type": "code",
      "metadata": {
        "id": "ejf3zp_IbcBq"
      },
      "source": [
        ""
      ],
      "execution_count": null,
      "outputs": []
    },
    {
      "cell_type": "markdown",
      "metadata": {
        "id": "GYO_eNr9J-S7"
      },
      "source": [
        "**Analisando dados dos clientes** \\\n",
        "**Exercício:** Média de IMCS \\\n",
        "Procedimento possível:\n",
        "- Transformar os IMCs em uma lista\n",
        "- Dividir a soma dos itens da lista por seu tamanho (**len**)"
      ]
    },
    {
      "cell_type": "code",
      "metadata": {
        "id": "4UgNe4Dj3jXz"
      },
      "source": [
        ""
      ],
      "execution_count": null,
      "outputs": []
    },
    {
      "cell_type": "code",
      "metadata": {
        "id": "qspPwbOU3z7r"
      },
      "source": [
        ""
      ],
      "execution_count": null,
      "outputs": []
    },
    {
      "cell_type": "code",
      "metadata": {
        "id": "lbj3DEvGceGA"
      },
      "source": [
        ""
      ],
      "execution_count": null,
      "outputs": []
    },
    {
      "cell_type": "code",
      "metadata": {
        "id": "-IUnYZgIoh-U"
      },
      "source": [
        ""
      ],
      "execution_count": null,
      "outputs": []
    },
    {
      "cell_type": "code",
      "metadata": {
        "id": "0fO_CzemdB4Z"
      },
      "source": [
        ""
      ],
      "execution_count": null,
      "outputs": []
    },
    {
      "cell_type": "code",
      "metadata": {
        "id": "tT0IiaSaoipE"
      },
      "source": [
        ""
      ],
      "execution_count": null,
      "outputs": []
    },
    {
      "cell_type": "markdown",
      "metadata": {
        "id": "uzuXEeUmLP38"
      },
      "source": [
        "**E se quisermos calcular a mediana?**\n",
        "\n"
      ]
    },
    {
      "cell_type": "markdown",
      "metadata": {
        "id": "bk_NX7a82um4"
      },
      "source": [
        "- Ordenar a lista\n",
        "- Escolher o valor do meio\n",
        "- Se a lista tiver um número par de elementos, fazer a média dos dois valores do meio"
      ]
    },
    {
      "cell_type": "code",
      "metadata": {
        "id": "CIakr7SX2tZn"
      },
      "source": [
        "clientes = {'Charlotte': {'altura': 1.56, 'imc': 21, 'peso': 52, 'sexo': 'F'},\n",
        " 'Claudia': {'altura': 1.56, 'imc': 25, 'peso': 62, 'sexo': 'F'},\n",
        " 'Jonas': {'altura': 1.56, 'imc': 21, 'peso': 52, 'sexo': 'M'},\n",
        " 'Martha': {'altura': 1.98, 'imc': 19, 'peso': 76, 'sexo': 'F'},\n",
        " 'Mikkel': {'altura': 1.56, 'imc': 28, 'peso': 67, 'sexo': 'M'},\n",
        " 'Ulrich': {'altura': 1.92, 'imc': 22, 'peso': 80, 'sexo': 'M'}}"
      ],
      "execution_count": null,
      "outputs": []
    },
    {
      "cell_type": "markdown",
      "metadata": {
        "id": "bqjn-SMQ2XBf"
      },
      "source": [
        "**E se quisermos calcular o desvio padrão?**"
      ]
    },
    {
      "cell_type": "code",
      "metadata": {
        "id": "9Y47x-jk2eH0"
      },
      "source": [
        ""
      ],
      "execution_count": null,
      "outputs": []
    },
    {
      "cell_type": "code",
      "metadata": {
        "id": "v2bW--e62dvY"
      },
      "source": [
        ""
      ],
      "execution_count": null,
      "outputs": []
    },
    {
      "cell_type": "markdown",
      "metadata": {
        "id": "vcI823XiMPDW"
      },
      "source": [
        "**Ahh nãããoo... paramos por aqui!**"
      ]
    },
    {
      "cell_type": "markdown",
      "metadata": {
        "id": "0nmY2egJt653"
      },
      "source": [
        "**Utilizando uma classe - Pandas**"
      ]
    },
    {
      "cell_type": "markdown",
      "metadata": {
        "id": "CagJVLzQJqg0"
      },
      "source": [
        "Criando um **objeto** da **classe** Dataframe da biblioteca pandas"
      ]
    },
    {
      "cell_type": "code",
      "metadata": {
        "id": "zhC2aA492dTO"
      },
      "source": [
        ""
      ],
      "execution_count": null,
      "outputs": []
    },
    {
      "cell_type": "code",
      "metadata": {
        "id": "U7QDkNRY2diO"
      },
      "source": [
        ""
      ],
      "execution_count": null,
      "outputs": []
    },
    {
      "cell_type": "code",
      "metadata": {
        "id": "5nBJTE212dqu"
      },
      "source": [
        ""
      ],
      "execution_count": null,
      "outputs": []
    },
    {
      "cell_type": "code",
      "metadata": {
        "id": "oMYUyPHB2d0A"
      },
      "source": [
        ""
      ],
      "execution_count": null,
      "outputs": []
    },
    {
      "cell_type": "code",
      "metadata": {
        "id": "nlsF4E5C2d6b"
      },
      "source": [
        ""
      ],
      "execution_count": null,
      "outputs": []
    },
    {
      "cell_type": "markdown",
      "metadata": {
        "id": "ziIE21qx3W0-"
      },
      "source": [
        "**Transpose**"
      ]
    },
    {
      "cell_type": "code",
      "metadata": {
        "id": "wQOODJKEdj_t"
      },
      "source": [
        ""
      ],
      "execution_count": null,
      "outputs": []
    },
    {
      "cell_type": "code",
      "metadata": {
        "id": "uMG0YqVw7Cc1"
      },
      "source": [
        ""
      ],
      "execution_count": null,
      "outputs": []
    },
    {
      "cell_type": "markdown",
      "metadata": {
        "id": "m7w42Lsl3bS7"
      },
      "source": [
        "Média"
      ]
    },
    {
      "cell_type": "code",
      "metadata": {
        "id": "5I4B9v4boPrk"
      },
      "source": [
        ""
      ],
      "execution_count": null,
      "outputs": []
    },
    {
      "cell_type": "markdown",
      "metadata": {
        "id": "hIuGxUI43dzR"
      },
      "source": [
        "Mediana"
      ]
    },
    {
      "cell_type": "code",
      "metadata": {
        "id": "sIENVGFzoTEW"
      },
      "source": [
        ""
      ],
      "execution_count": null,
      "outputs": []
    },
    {
      "cell_type": "markdown",
      "metadata": {
        "id": "UVBBRtEt3f-6"
      },
      "source": [
        "Desvio Padrão"
      ]
    },
    {
      "cell_type": "code",
      "metadata": {
        "id": "ES3ty9G4oUEE"
      },
      "source": [
        ""
      ],
      "execution_count": null,
      "outputs": []
    },
    {
      "cell_type": "markdown",
      "metadata": {
        "id": "dAO4RKeh3qBK"
      },
      "source": [
        "Gerando Gráficos"
      ]
    },
    {
      "cell_type": "code",
      "metadata": {
        "id": "3Lgg7wo4Eva1"
      },
      "source": [
        ""
      ],
      "execution_count": null,
      "outputs": []
    },
    {
      "cell_type": "code",
      "metadata": {
        "id": "CqDnRtx4oWwv"
      },
      "source": [
        ""
      ],
      "execution_count": null,
      "outputs": []
    },
    {
      "cell_type": "code",
      "metadata": {
        "id": "7W8ZZclpC89J"
      },
      "source": [
        ""
      ],
      "execution_count": null,
      "outputs": []
    },
    {
      "cell_type": "code",
      "metadata": {
        "id": "EL74g-bXEGhM"
      },
      "source": [
        ""
      ],
      "execution_count": null,
      "outputs": []
    },
    {
      "cell_type": "code",
      "metadata": {
        "id": "7i-2OzAEFcSo"
      },
      "source": [
        ""
      ],
      "execution_count": null,
      "outputs": []
    },
    {
      "cell_type": "code",
      "metadata": {
        "id": "DHO0ZYjHF0YF"
      },
      "source": [
        ""
      ],
      "execution_count": null,
      "outputs": []
    }
  ]
}