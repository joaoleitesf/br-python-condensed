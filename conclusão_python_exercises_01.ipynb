{
  "nbformat": 4,
  "nbformat_minor": 0,
  "metadata": {
    "colab": {
      "name": "conclusão python_exercises_01.ipynb",
      "provenance": [],
      "include_colab_link": true
    },
    "kernelspec": {
      "name": "python3",
      "display_name": "Python 3"
    }
  },
  "cells": [
    {
      "cell_type": "markdown",
      "metadata": {
        "id": "view-in-github",
        "colab_type": "text"
      },
      "source": [
        "<a href=\"https://colab.research.google.com/github/joaoleitesf/br-python-condensed/blob/main/conclus%C3%A3o_python_exercises_01.ipynb\" target=\"_parent\"><img src=\"https://colab.research.google.com/assets/colab-badge.svg\" alt=\"Open In Colab\"/></a>"
      ]
    },
    {
      "cell_type": "markdown",
      "metadata": {
        "id": "8YqaSZgXYJ5g"
      },
      "source": [
        "![](https://i.imgur.com/YX6UATs.png)\n"
      ]
    },
    {
      "cell_type": "markdown",
      "metadata": {
        "id": "hhUVzDipaGb9"
      },
      "source": [
        "### **Exercícios de Python - 1** \n",
        "\n",
        "\n",
        "\n"
      ]
    },
    {
      "cell_type": "markdown",
      "metadata": {
        "id": "qMGp-h8OaGqr"
      },
      "source": [
        "1 - Faça um programa, com uma função que necessite de três argumentos, e que forneça a soma desses três argumentos."
      ]
    },
    {
      "cell_type": "code",
      "metadata": {
        "id": "kTg-D89NdCld"
      },
      "source": [
        "def valor_total():\r\n",
        "    produto_1 = input(\"Digite o nome do produto\")\r\n",
        "    valor_1 = float(input(\"Informe o valor do produto_1\"))\r\n",
        "    quantidade_1 = float(input(\"Informe a quantidade de produto_1\"))\r\n",
        "    produto_2 = input(\"Digite o nome do produto2\")\r\n",
        "    quantidade_2 = float(input(\"Informe a quantidade de produto_2\"))\r\n",
        "    valor_2 = float(input(\"Informe o valor de produto_2\"))\r\n",
        "    total_produto_1 = quantidade_1*valor_1\r\n",
        "    total_produto_2 = quantidade_2*valor_2\r\n",
        "    valor = total_produto_1+total_produto_2\r\n",
        "    frase_final = f\"O valor total é{valor}\"\r\n",
        "    return frase_final\r\n",
        "  "
      ],
      "execution_count": 16,
      "outputs": []
    },
    {
      "cell_type": "markdown",
      "metadata": {
        "id": "icmaK02EHNii"
      },
      "source": [
        "2 - Faça um Programa que peça a temperatura em graus Celsius, transforme e mostre em graus Fahrenheit. \\ Dica: procure a fórmula para essa conversão na internet"
      ]
    },
    {
      "cell_type": "code",
      "metadata": {
        "id": "YTQp6-taHQRH"
      },
      "source": [
        "def temperatura_fht():\r\n",
        "  temp_celsius = float(input(\"Informe a temperatura atual em Celsius\"))\r\n",
        "  temperatura_fahrenheit = (temp_celsius*1.8)+32\r\n",
        "  result = f\"A temperatura em Fahrenheit é{temperatura_fahrenheit}\"\r\n",
        "  return result\r\n",
        "\r\n"
      ],
      "execution_count": 26,
      "outputs": []
    },
    {
      "cell_type": "code",
      "metadata": {
        "colab": {
          "base_uri": "https://localhost:8080/",
          "height": 52
        },
        "id": "rCiNLdeVIe8u",
        "outputId": "51d72b27-17fc-436a-d069-da06568c9c21"
      },
      "source": [
        "temperatura_fht()"
      ],
      "execution_count": 27,
      "outputs": [
        {
          "output_type": "stream",
          "text": [
            "Informe a temperatura atual em Celsius35\n"
          ],
          "name": "stdout"
        },
        {
          "output_type": "execute_result",
          "data": {
            "application/vnd.google.colaboratory.intrinsic+json": {
              "type": "string"
            },
            "text/plain": [
              "'A temperatura em Fahrenheit é95.0'"
            ]
          },
          "metadata": {
            "tags": []
          },
          "execution_count": 27
        }
      ]
    },
    {
      "cell_type": "markdown",
      "metadata": {
        "id": "4OETBVgmaGzX"
      },
      "source": [
        "3 - Faça um Programa que peça um número inteiro e determine se ele é par ou impar. Dica: utilize o operador módulo (resto da divisão)."
      ]
    },
    {
      "cell_type": "code",
      "metadata": {
        "id": "q9T717BeFJ8-"
      },
      "source": [
        "def par_ou_impar():\r\n",
        "  numero = float(input(\"Digite um número:\"))\r\n",
        "  resto = numero % 2\r\n",
        "  if resto == 0:\r\n",
        "      print(\"Número par.\")\r\n",
        "  else:\r\n",
        "      print(\"Número impar.\")\r\n",
        "\r\n"
      ],
      "execution_count": 105,
      "outputs": []
    },
    {
      "cell_type": "code",
      "metadata": {
        "colab": {
          "base_uri": "https://localhost:8080/"
        },
        "id": "H7SjSmJdg0Wp",
        "outputId": "e4eb586c-c4cc-4b37-8d71-c1ac4982ccd9"
      },
      "source": [
        "par_ou_impar()"
      ],
      "execution_count": 107,
      "outputs": [
        {
          "output_type": "stream",
          "text": [
            "Digite um número:47\n",
            "Número impar.\n"
          ],
          "name": "stdout"
        }
      ]
    },
    {
      "cell_type": "markdown",
      "metadata": {
        "id": "7zPJ8sgPaGw0"
      },
      "source": [
        "4 - Faça um programa que peça o tamanho de um arquivo para download (em MB) e a velocidade de um link de Internet (em Mbps), calcule e informe o tempo aproximado de download do arquivo usando este link (em minutos)."
      ]
    },
    {
      "cell_type": "code",
      "metadata": {
        "id": "l4qtSxU7XquB"
      },
      "source": [
        "def calculadora_down():\r\n",
        "  arquivo_mb = input(\"Informe o tamanho do arquivo em MB\"))\r\n",
        "  velocidade = input(\"Informe a velocidade da sua internet em MBps\"))\r\n",
        "  tempo_down = float arquivo_mb/velocidade/60\r\n",
        "  result = f\"O tempo médio para download é{tempo_down}\"\r\n",
        "  return result\r\n",
        "\r\n"
      ],
      "execution_count": 46,
      "outputs": []
    },
    {
      "cell_type": "code",
      "metadata": {
        "colab": {
          "base_uri": "https://localhost:8080/",
          "height": 69
        },
        "id": "myjPRhFsOMMY",
        "outputId": "ff3dac02-88c8-4b39-c2ff-2b3fce479cb1"
      },
      "source": [
        "calculadora_down()"
      ],
      "execution_count": 59,
      "outputs": [
        {
          "output_type": "stream",
          "text": [
            "Informe o tamanho do arquivo em MB100\n",
            "Informe a velocidade da sua internet em MBps1\n"
          ],
          "name": "stdout"
        },
        {
          "output_type": "execute_result",
          "data": {
            "application/vnd.google.colaboratory.intrinsic+json": {
              "type": "string"
            },
            "text/plain": [
              "'O tempo médio para download é1.6666666666666667'"
            ]
          },
          "metadata": {
            "tags": []
          },
          "execution_count": 59
        }
      ]
    },
    {
      "cell_type": "markdown",
      "metadata": {
        "id": "0tkhm6EUaG1u"
      },
      "source": [
        "5 - Faça um programa para a leitura de duas notas parciais de um aluno. O programa deve calcular a média alcançada por aluno e apresentar:\n",
        "- A mensagem \"Aprovado\", se a média alcançada for maior ou igual a sete;\n",
        "- A mensagem \"Reprovado\", se a média for menor do que sete;\n",
        "- A mensagem \"Aprovado com Distinção\", se a média for igual a dez."
      ]
    },
    {
      "cell_type": "code",
      "metadata": {
        "id": "qROiZsRubszh"
      },
      "source": [
        "def boletim_aluno():\r\n",
        "  nota_1 = float(input(\"Informe a nota 1\"))\r\n",
        "  nota_2 = float(input(\"informe a nota 2\"))\r\n",
        "  if (nota_1+nota_2)/2 <10 and = 7:\r\n",
        "      print(\"Aprovado\")\r\n",
        "  if (nota_1+nota_2)/2  < 7:\r\n",
        "      print(\"Reprovado\")\r\n",
        "  elif:\r\n",
        "      print(\"Aprovado com distinção\")"
      ],
      "execution_count": 90,
      "outputs": []
    },
    {
      "cell_type": "markdown",
      "metadata": {
        "id": "Lm1tOKThnU42"
      },
      "source": [
        "Exercícios adaptados de Python Brasil"
      ]
    },
    {
      "cell_type": "code",
      "metadata": {
        "colab": {
          "base_uri": "https://localhost:8080/"
        },
        "id": "W8gHLW1ueKVZ",
        "outputId": "d96ac2e4-8b66-4a46-e78a-53a17175b3a4"
      },
      "source": [
        "boletim_aluno"
      ],
      "execution_count": 99,
      "outputs": [
        {
          "output_type": "stream",
          "text": [
            "Informe a nota 110\n",
            "informe a nota 210\n",
            "Aprovado\n",
            "Aprovado com distinção\n"
          ],
          "name": "stdout"
        }
      ]
    },
    {
      "cell_type": "code",
      "metadata": {
        "id": "nqi0pMPEeLgk"
      },
      "source": [
        ""
      ],
      "execution_count": null,
      "outputs": []
    }
  ]
}